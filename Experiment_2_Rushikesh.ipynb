{
 "cells": [
  {
   "cell_type": "markdown",
   "metadata": {
    "id": "HLtzdpB7a9Xd"
   },
   "source": [
    "Suppose that a test for using a particular drug is 97% sensitive and 95% specific.\n",
    "\n",
    "That is, the test will produce 97% true positive results for drug users and 95% true negative results for non-drug users.\n",
    "\n",
    "Suppose that 0.5% of the general population are users of the drug. What is the probability that a randomly selected individual with a positive test is a drug user?\n",
    "\n",
    "We will write a custom function which accepts the test capabilities and the prior knowledge of drug user percentage as input and produces the output probability of a test-taker being an user based on a positive result.\n",
    "\n",
    "\n",
    "The Bayes' rule based calculation is given by the following equation,\n",
    "\n",
    "P(User|+)\n",
    "         = [P(+|User).P(User)]/P(+)\n",
    "\n",
    "         = [P(+|User).P(User)] / [P(+|User).P(User)+P(+|Non-user).P(Non-user)]\n",
    "\n",
    "Here,\n",
    "P(User)=Prevelance rate\n",
    "P(Non-user)=1 − Prevelance rate\n",
    "P(+|User)= Sensitivity\n",
    "P(−|Non-user) = Specificity\n",
    "P(+|Non-user)=1 − Specificity"
   ]
  },
  {
   "cell_type": "code",
   "execution_count": 1,
   "metadata": {
    "colab": {
     "base_uri": "https://localhost:8080/"
    },
    "id": "1J5YFak8a7bv",
    "outputId": "d0dedc1a-8aae-4cfa-92e3-66df9a162618"
   },
   "outputs": [
    {
     "name": "stdout",
     "output_type": "stream",
     "text": [
      "The test-taker may not be an user\n",
      "Probability of the test-taker being a drug user is: 0.089\n"
     ]
    }
   ],
   "source": [
    "def drug_user(prob_th=0.5,sensitivity=0.99,specificity=0.99,prevelance=0.01,verbose=True):\n",
    "    \"\"\"\n",
    "    \"\"\"\n",
    "    p_user = prevelance\n",
    "    p_non_user = 1-prevelance\n",
    "    p_pos_user = sensitivity\n",
    "    p_neg_user = specificity\n",
    "    p_pos_non_user = 1-specificity\n",
    "\n",
    "    num = p_pos_user*p_user\n",
    "    den = p_pos_user*p_user+p_pos_non_user*p_non_user\n",
    "\n",
    "    prob = num/den\n",
    "\n",
    "    if verbose:\n",
    "        if prob > prob_th:\n",
    "            print(\"The test-taker could be an user\")\n",
    "        else:\n",
    "            print(\"The test-taker may not be an user\")\n",
    "\n",
    "    return prob\n",
    "\n",
    "\n",
    "# Run with the details given in the original question\n",
    "\n",
    "p = drug_user(prob_th=0.5,sensitivity=0.97,specificity=0.95,prevelance=0.005)\n",
    "print(\"Probability of the test-taker being a drug user is:\",round(p,3))"
   ]
  },
  {
   "cell_type": "markdown",
   "metadata": {
    "id": "9EeQSyGKjewF"
   },
   "source": [
    "How about applying the Bayes' rule twice (or more)?\n",
    "\n",
    "The best thing about Bayesian inference is the ability to use prior knowledge in the form of Prior probability term in the numerator of the Bayes' theorem.\n",
    "\n",
    "In this setting of drug screening, the prior knowledge is nothing but the computed probability of a test which is then fed back to a next test.\n",
    "\n",
    "That means, for these cases, where the prevelance rate in the general population is extremely low, one way to increase confidence is to prescribe subsequent test if the first test result is positive.\n",
    "\n",
    "The probability from the first test becomes the Prior for the second test i.e. the P(User)\n",
    "\n",
    "is not the general prevelance rate anymore for this second test, but the probability from the first test.\n",
    "\n",
    "Let's see how the probability evolves with a series of tests..."
   ]
  },
  {
   "cell_type": "code",
   "execution_count": 2,
   "metadata": {
    "colab": {
     "base_uri": "https://localhost:8080/"
    },
    "id": "yA_uxhiyjdzN",
    "outputId": "19d81dae-52ed-4be8-f7fd-fcc2cf87ce5d"
   },
   "outputs": [
    {
     "name": "stdout",
     "output_type": "stream",
     "text": [
      "The test-taker may not be an user\n",
      "Probability of the test-taker being a drug user, in the first round of test, is: 0.089\n",
      "\n",
      "The test-taker could be an user\n",
      "Probability of the test-taker being a drug user, in the second round of test, is: 0.654\n",
      "\n",
      "The test-taker could be an user\n",
      "Probability of the test-taker being a drug user, in the third round of test, is: 0.973\n"
     ]
    }
   ],
   "source": [
    "p1 = drug_user(prob_th=0.5,sensitivity=0.97,specificity=0.95,prevelance=0.005)\n",
    "print(\"Probability of the test-taker being a drug user, in the first round of test, is:\",round(p1,3))\n",
    "print()\n",
    "p2 = drug_user(prob_th=0.5,sensitivity=0.97,specificity=0.95,prevelance=p1)\n",
    "print(\"Probability of the test-taker being a drug user, in the second round of test, is:\",round(p2,3))\n",
    "print()\n",
    "p3 = drug_user(prob_th=0.5,sensitivity=0.97,specificity=0.95,prevelance=p2)\n",
    "print(\"Probability of the test-taker being a drug user, in the third round of test, is:\",round(p3,3))"
   ]
  },
  {
   "cell_type": "markdown",
   "metadata": {
    "id": "dzmvqySmkCwX"
   },
   "source": [
    "**Example 1:** A person has undertaken a job. The probabilities of completion of the job on time with and without rain are 0.44 and 0.95 respectively. If the probability that it will rain is 0.45, then determine the probability that the job will be completed on time.\n",
    "\n",
    "Formulate this problem and code in python.\n",
    "(Reference: https://www.geeksforgeeks.org/bayes-theorem/)"
   ]
  },
  {
   "cell_type": "code",
   "execution_count": null,
   "metadata": {},
   "outputs": [],
   "source": []
  },
  {
   "cell_type": "markdown",
   "metadata": {
    "id": "DDgOnoBEkYR9"
   },
   "source": [
    "Solution :\n",
    "\n",
    "Probability of job completion on time with rain: P(C|R) = 0.44\n",
    "Probability of job completion on time without rain: P(C|R') = 0.95\n",
    "Probability of rain: P(R) = 0.45\n",
    "\n",
    "To Find:\n",
    "        Probability of job completion on time: P(C)"
   ]
  },
  {
   "cell_type": "code",
   "execution_count": 3,
   "metadata": {},
   "outputs": [],
   "source": [
    "def job_completion_prob(p_c_r, p_c_not_r, p_r):\n",
    "    \"\"\"\n",
    "    Calculates the probability of job completion on time.\n",
    "\n",
    "    Args:\n",
    "        p_c_r: Probability of job completion given rain.\n",
    "        p_c_not_r: Probability of job completion given no rain.\n",
    "        p_r: Probability of rain.\n",
    "\n",
    "    Returns:\n",
    "        The probability of job completion on time.\n",
    "    \"\"\"\n",
    "\n",
    "    p_c = p_c_r * p_r + p_c_not_r * (1 - p_r)\n",
    "    return p_c\n"
   ]
  },
  {
   "cell_type": "code",
   "execution_count": 4,
   "metadata": {},
   "outputs": [
    {
     "name": "stdout",
     "output_type": "stream",
     "text": [
      "Probability of job completion on time: 0.7204999999999999\n"
     ]
    }
   ],
   "source": [
    "\n",
    "p_c = job_completion_prob(0.44, 0.95, 0.45)\n",
    "print(\"Probability of job completion on time:\", p_c)"
   ]
  },
  {
   "cell_type": "code",
   "execution_count": null,
   "metadata": {},
   "outputs": [],
   "source": []
  },
  {
   "cell_type": "markdown",
   "metadata": {
    "id": "ePZG6w_okcsF"
   },
   "source": [
    "**Example 2:** Now update the probality of job completion with rain in **example 1** to the one obtained by solving example 1. Follow the same procedure above and calculate the probability that the job will be completed on time if the probability of rain is 0.55."
   ]
  },
  {
   "cell_type": "code",
   "execution_count": 7,
   "metadata": {
    "id": "8_5N5yNllK6v"
   },
   "outputs": [],
   "source": [
    "# Calculate the initial probability of job completion\n",
    "p_c_initial = job_completion_prob(0.44, 0.95, 0.45)\n"
   ]
  },
  {
   "cell_type": "code",
   "execution_count": 8,
   "metadata": {},
   "outputs": [],
   "source": [
    "# Update the probability of job completion given rain\n",
    "p_c_r_updated = p_c_initial\n"
   ]
  },
  {
   "cell_type": "code",
   "execution_count": 9,
   "metadata": {},
   "outputs": [
    {
     "name": "stdout",
     "output_type": "stream",
     "text": [
      "Updated probability of job completion: 0.8237749999999999\n"
     ]
    }
   ],
   "source": [
    "# Calculate the new probability of job completion with p_r = 0.55\n",
    "p_c_new = job_completion_prob(p_c_r_updated, 0.95, 0.55)\n",
    "\n",
    "print(\"Updated probability of job completion:\", p_c_new)"
   ]
  },
  {
   "cell_type": "markdown",
   "metadata": {},
   "source": [
    "This means that with the updated probability of job completion given rain (based on the initial calculation), and a rain probability of 0.55, the overall probability of job completion on time is approximately 0.824."
   ]
  },
  {
   "cell_type": "code",
   "execution_count": null,
   "metadata": {},
   "outputs": [],
   "source": []
  }
 ],
 "metadata": {
  "colab": {
   "provenance": []
  },
  "kernelspec": {
   "display_name": "Python 3 (ipykernel)",
   "language": "python",
   "name": "python3"
  },
  "language_info": {
   "codemirror_mode": {
    "name": "ipython",
    "version": 3
   },
   "file_extension": ".py",
   "mimetype": "text/x-python",
   "name": "python",
   "nbconvert_exporter": "python",
   "pygments_lexer": "ipython3",
   "version": "3.11.5"
  }
 },
 "nbformat": 4,
 "nbformat_minor": 1
}
