{
 "cells": [
  {
   "cell_type": "markdown",
   "metadata": {
    "id": "cuxO2azDaMOr"
   },
   "source": [
    "**Experiment No. 4**"
   ]
  },
  {
   "cell_type": "markdown",
   "metadata": {
    "id": "TaHF_ggSaarj"
   },
   "source": [
    "Maximum a Posteriori (MAP) estimation is a popular method used in machine learning and statistics to estimate the parameters of a statistical model. It combines prior knowledge about the distribution of the parameters with data to produce an estimate that is likely to be the most accurate given the information available.\n",
    "\n",
    "In MAP estimation, we use Bayes’ theorem to compute the posterior distribution of the parameters given the data and prior information. This is done by multiplying the likelihood of the data given the parameters by the prior distribution of the parameters. The estimate of the parameters is then taken to be the maximum of the posterior distribution.\n",
    "\n",
    "MAP estimation is often used in machine learning when we have a model with many parameters and limited data. In this case, the prior information can be used to regularize the model and prevent overfitting. The prior information can also be used to incorporate domain knowledge into the model and make it more robust.\n",
    "\n",
    "One of the advantages of MAP estimation is that it provides a way to combine prior knowledge and data in a systematic way. It also provides a way to specify the uncertainty in the estimates, which can be useful for model selection and other purposes.\n",
    "\n"
   ]
  },
  {
   "cell_type": "markdown",
   "metadata": {
    "id": "zBV8SuxLav6E"
   },
   "source": [
    "We use the Numpy library in the code below to calculate the MAP parameter. We have defined the mean of a normal distribution and then randomly created data for the distribution. We then calculate the likelihood and prior probabilities and thereafter calculate the posterior probability. We plot the normalized graph of all the points and return the estimated mean value (the largest value in the calculated distribution )."
   ]
  },
  {
   "cell_type": "code",
   "execution_count": null,
   "metadata": {
    "colab": {
     "base_uri": "https://localhost:8080/"
    },
    "id": "0vAOUwmIZymb",
    "outputId": "6b90720d-4c6d-4f4c-fda3-22b1f0ab0475"
   },
   "outputs": [
    {
     "name": "stdout",
     "output_type": "stream",
     "text": [
      "True mean: 5\n",
      "MAP estimate: 5.151515151515151\n"
     ]
    }
   ],
   "source": [
    "import numpy as np\n",
    "\n",
    "# Define the true parameter (mean of a normal distribution)\n",
    "true_mean = 5\n",
    "\n",
    "# Generate random data from the normal distribution\n",
    "data = np.random.normal(true_mean, 1, size=100)\n",
    "\n",
    "# Define the prior distribution (another normal distribution) as prior knowledge\n",
    "prior_mean = 4\n",
    "prior_std = 2\n",
    "\n",
    "def pdf_normal(x, mean, std):\n",
    "  # Calculate the probability density function of a normal distribution\n",
    "  return 1 / (std * np.sqrt(2 * np.pi)) * np.exp(-(x - mean)**2 / (2 * std**2))\n",
    "\n",
    "def posterior(x):\n",
    "  # Likelihood (product of individual data point probabilities)\n",
    "  likelihood = 1\n",
    "  for datum in data:\n",
    "    likelihood *= pdf_normal(datum, x, 1)\n",
    "\n",
    "  # Prior probability\n",
    "  prior = pdf_normal(x, prior_mean, prior_std)\n",
    "\n",
    "  # Posterior probability (product of likelihood and prior)\n",
    "  return likelihood * prior\n",
    "\n",
    "# Discretize the parameter space\n",
    "x_grid = np.linspace(0, 10, 100)  # Adjust range for better fit\n",
    "\n",
    "# Calculate posterior for each grid point\n",
    "posterior_values = np.zeros_like(x_grid)\n",
    "for i, x in enumerate(x_grid):\n",
    "  posterior_values[i] = posterior(x)\n",
    "\n",
    "# Normalize the posterior to get a probability distribution\n",
    "posterior_normalized = posterior_values / np.sum(posterior_values)\n",
    "\n",
    "# Find the MAP estimate (index of maximum value)\n",
    "map_estimate = x_grid[np.argmax(posterior_normalized)]\n",
    "\n",
    "print(\"True mean:\", true_mean)\n",
    "print(\"MAP estimate:\", map_estimate)"
   ]
  },
  {
   "cell_type": "markdown",
   "metadata": {
    "id": "CLMoBcfumBwD"
   },
   "source": [
    "**Example for practice**: In the above code if prior distribution is changed, then verify the posterior result. (Assume prior distribution of your choice eg. Poisson, binary or beta). Modify the above code accordingly and verify the results. (write modified code below)"
   ]
  },
  {
   "cell_type": "code",
   "execution_count": 1,
   "metadata": {
    "id": "rh1n6qO2myDU"
   },
   "outputs": [
    {
     "name": "stdout",
     "output_type": "stream",
     "text": [
      "True mean: 5\n",
      "MAP estimate with new prior: 4.747474747474747\n"
     ]
    }
   ],
   "source": [
    "import numpy as np  \n",
    "\n",
    "# Define the true parameter (mean of a normal distribution)  \n",
    "true_mean = 5  \n",
    "\n",
    "# Generate random data from the normal distribution  \n",
    "data = np.random.normal(true_mean, 1, size=100)  \n",
    "\n",
    "# Define the new prior distribution (change mean and std)  \n",
    "prior_mean = 7  # Changed prior mean  \n",
    "prior_std = 1   # Changed prior std  \n",
    "\n",
    "def pdf_normal(x, mean, std):  \n",
    "    # Calculate the probability density function of a normal distribution  \n",
    "    return 1 / (std * np.sqrt(2 * np.pi)) * np.exp(-(x - mean)**2 / (2 * std**2))  \n",
    "\n",
    "def posterior(x):  \n",
    "    # Likelihood (product of individual data point probabilities)  \n",
    "    likelihood = 1  \n",
    "    for datum in data:  \n",
    "        likelihood *= pdf_normal(datum, x, 1)  \n",
    "\n",
    "    # Prior probability  \n",
    "    prior = pdf_normal(x, prior_mean, prior_std)  \n",
    "\n",
    "    # Posterior probability (product of likelihood and prior)  \n",
    "    return likelihood * prior  \n",
    "\n",
    "# Discretize the parameter space  \n",
    "x_grid = np.linspace(0, 10, 100)  # Adjust range for better fit  \n",
    "\n",
    "# Calculate posterior for each grid point  \n",
    "posterior_values = np.zeros_like(x_grid)  \n",
    "for i, x in enumerate(x_grid):  \n",
    "    posterior_values[i] = posterior(x)  \n",
    "\n",
    "# Normalize the posterior to get a probability distribution  \n",
    "posterior_normalized = posterior_values / np.sum(posterior_values)  \n",
    "\n",
    "# Find the MAP estimate (index of maximum value)  \n",
    "map_estimate = x_grid[np.argmax(posterior_normalized)]  \n",
    "\n",
    "print(\"True mean:\", true_mean)  \n",
    "print(\"MAP estimate with new prior:\", map_estimate)"
   ]
  },
  {
   "cell_type": "code",
   "execution_count": null,
   "metadata": {},
   "outputs": [],
   "source": []
  }
 ],
 "metadata": {
  "colab": {
   "provenance": []
  },
  "kernelspec": {
   "display_name": "Python 3 (ipykernel)",
   "language": "python",
   "name": "python3"
  },
  "language_info": {
   "codemirror_mode": {
    "name": "ipython",
    "version": 3
   },
   "file_extension": ".py",
   "mimetype": "text/x-python",
   "name": "python",
   "nbconvert_exporter": "python",
   "pygments_lexer": "ipython3",
   "version": "3.11.5"
  }
 },
 "nbformat": 4,
 "nbformat_minor": 1
}
